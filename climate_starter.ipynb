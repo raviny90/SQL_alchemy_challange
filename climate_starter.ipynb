{
 "cells": [
  {
   "cell_type": "code",
   "execution_count": 1,
   "metadata": {},
   "outputs": [],
   "source": [
    "%matplotlib inline\n",
    "from matplotlib import style\n",
    "style.use('fivethirtyeight')\n",
    "import matplotlib.pyplot as plt"
   ]
  },
  {
   "cell_type": "code",
   "execution_count": 2,
   "metadata": {},
   "outputs": [],
   "source": [
    "import numpy as np\n",
    "import pandas as pd"
   ]
  },
  {
   "cell_type": "code",
   "execution_count": 3,
   "metadata": {},
   "outputs": [],
   "source": [
    "import datetime as dt"
   ]
  },
  {
   "cell_type": "markdown",
   "metadata": {},
   "source": [
    "# Reflect Tables into SQLAlchemy ORM"
   ]
  },
  {
   "cell_type": "code",
   "execution_count": 4,
   "metadata": {},
   "outputs": [],
   "source": [
    "# Python SQL toolkit and Object Relational Mapper\n",
    "import sqlalchemy\n",
    "from sqlalchemy.ext.automap import automap_base\n",
    "from sqlalchemy.orm import Session\n",
    "from sqlalchemy import create_engine, func"
   ]
  },
  {
   "cell_type": "code",
   "execution_count": 5,
   "metadata": {},
   "outputs": [],
   "source": [
    "engine = create_engine(\"sqlite:///Resources/hawaii.sqlite\")\n",
    "\n",
    "# Adding a \"conn\" variable to assist a \"pd.read_sql\" usage\n",
    "conn = engine.connect()"
   ]
  },
  {
   "cell_type": "code",
   "execution_count": 6,
   "metadata": {},
   "outputs": [],
   "source": [
    "# reflect an existing database into a new model\n",
    "Base = automap_base()\n",
    "# reflect the tables\n",
    "Base.prepare(engine, reflect=True)"
   ]
  },
  {
   "cell_type": "code",
   "execution_count": 7,
   "metadata": {},
   "outputs": [
    {
     "output_type": "execute_result",
     "data": {
      "text/plain": "[&#39;measurement&#39;, &#39;station&#39;]"
     },
     "metadata": {},
     "execution_count": 7
    }
   ],
   "source": [
    "# We can view all of the classes that automap found\n",
    "Base.classes.keys()"
   ]
  },
  {
   "cell_type": "code",
   "execution_count": 8,
   "metadata": {},
   "outputs": [],
   "source": [
    "# Save references to each table\n",
    "Measurement = Base.classes.measurement\n",
    "Station = Base.classes.station"
   ]
  },
  {
   "cell_type": "code",
   "execution_count": 17,
   "metadata": {},
   "outputs": [],
   "source": [
    "# Create our session (link) from Python to the DB\n",
    "session = Session(engine)"
   ]
  },
  {
   "cell_type": "markdown",
   "metadata": {},
   "source": [
    "# Exploratory Climate Analysis"
   ]
  },
  {
   "cell_type": "code",
   "execution_count": 10,
   "metadata": {},
   "outputs": [
    {
     "output_type": "execute_result",
     "data": {
      "text/plain": "   ID      Station        Date  Precipitation  Time of Observation Bias\n0   1  USC00519397  2010-01-01           0.08                      65.0\n1   2  USC00519397  2010-01-02           0.00                      63.0\n2   3  USC00519397  2010-01-03           0.00                      74.0\n3   4  USC00519397  2010-01-04           0.00                      76.0\n4   5  USC00519397  2010-01-06            NaN                      73.0",
      "text/html": "<div>\n<style scoped>\n    .dataframe tbody tr th:only-of-type {\n        vertical-align: middle;\n    }\n\n    .dataframe tbody tr th {\n        vertical-align: top;\n    }\n\n    .dataframe thead th {\n        text-align: right;\n    }\n</style>\n<table border=\"1\" class=\"dataframe\">\n  <thead>\n    <tr style=\"text-align: right;\">\n      <th></th>\n      <th>ID</th>\n      <th>Station</th>\n      <th>Date</th>\n      <th>Precipitation</th>\n      <th>Time of Observation Bias</th>\n    </tr>\n  </thead>\n  <tbody>\n    <tr>\n      <th>0</th>\n      <td>1</td>\n      <td>USC00519397</td>\n      <td>2010-01-01</td>\n      <td>0.08</td>\n      <td>65.0</td>\n    </tr>\n    <tr>\n      <th>1</th>\n      <td>2</td>\n      <td>USC00519397</td>\n      <td>2010-01-02</td>\n      <td>0.00</td>\n      <td>63.0</td>\n    </tr>\n    <tr>\n      <th>2</th>\n      <td>3</td>\n      <td>USC00519397</td>\n      <td>2010-01-03</td>\n      <td>0.00</td>\n      <td>74.0</td>\n    </tr>\n    <tr>\n      <th>3</th>\n      <td>4</td>\n      <td>USC00519397</td>\n      <td>2010-01-04</td>\n      <td>0.00</td>\n      <td>76.0</td>\n    </tr>\n    <tr>\n      <th>4</th>\n      <td>5</td>\n      <td>USC00519397</td>\n      <td>2010-01-06</td>\n      <td>NaN</td>\n      <td>73.0</td>\n    </tr>\n  </tbody>\n</table>\n</div>"
     },
     "metadata": {},
     "execution_count": 10
    }
   ],
   "source": [
    "# Create DataFrames for the provided DataBases\n",
    "measurement = pd.read_sql(\"SELECT * FROM Measurement\", conn)\n",
    "\n",
    "# rename to clean the column names\n",
    "measurement_df = measurement.rename(columns={\"id\" : \"ID\", \"station\" : \"Station\", \"date\" : \"Date\", \"prcp\" : \"Precipitation\", \"tobs\" : \"Time of Observation Bias\"})\n",
    "\n",
    "# view new DataFrame\n",
    "measurement_df.head()"
   ]
  },
  {
   "cell_type": "code",
   "execution_count": 11,
   "metadata": {},
   "outputs": [
    {
     "output_type": "execute_result",
     "data": {
      "text/plain": "   ID      Station                                    Name  Latitude  \\\n0   1  USC00519397                    WAIKIKI 717.2, HI US  21.27160   \n1   2  USC00513117                    KANEOHE 838.1, HI US  21.42340   \n2   3  USC00514830  KUALOA RANCH HEADQUARTERS 886.9, HI US  21.52130   \n3   4  USC00517948                       PEARL CITY, HI US  21.39340   \n4   5  USC00518838              UPPER WAHIAWA 874.3, HI US  21.49920   \n5   6  USC00519523      WAIMANALO EXPERIMENTAL FARM, HI US  21.33556   \n6   7  USC00519281                     WAIHEE 837.5, HI US  21.45167   \n7   8  USC00511918       HONOLULU OBSERVATORY 702.2, HI US  21.31520   \n8   9  USC00516128            MANOA LYON ARBO 785.2, HI US  21.33310   \n\n   Longitude  Elevation  \n0 -157.81680        3.0  \n1 -157.80150       14.6  \n2 -157.83740        7.0  \n3 -157.97510       11.9  \n4 -158.01110      306.6  \n5 -157.71139       19.5  \n6 -157.84889       32.9  \n7 -157.99920        0.9  \n8 -157.80250      152.4  ",
      "text/html": "<div>\n<style scoped>\n    .dataframe tbody tr th:only-of-type {\n        vertical-align: middle;\n    }\n\n    .dataframe tbody tr th {\n        vertical-align: top;\n    }\n\n    .dataframe thead th {\n        text-align: right;\n    }\n</style>\n<table border=\"1\" class=\"dataframe\">\n  <thead>\n    <tr style=\"text-align: right;\">\n      <th></th>\n      <th>ID</th>\n      <th>Station</th>\n      <th>Name</th>\n      <th>Latitude</th>\n      <th>Longitude</th>\n      <th>Elevation</th>\n    </tr>\n  </thead>\n  <tbody>\n    <tr>\n      <th>0</th>\n      <td>1</td>\n      <td>USC00519397</td>\n      <td>WAIKIKI 717.2, HI US</td>\n      <td>21.27160</td>\n      <td>-157.81680</td>\n      <td>3.0</td>\n    </tr>\n    <tr>\n      <th>1</th>\n      <td>2</td>\n      <td>USC00513117</td>\n      <td>KANEOHE 838.1, HI US</td>\n      <td>21.42340</td>\n      <td>-157.80150</td>\n      <td>14.6</td>\n    </tr>\n    <tr>\n      <th>2</th>\n      <td>3</td>\n      <td>USC00514830</td>\n      <td>KUALOA RANCH HEADQUARTERS 886.9, HI US</td>\n      <td>21.52130</td>\n      <td>-157.83740</td>\n      <td>7.0</td>\n    </tr>\n    <tr>\n      <th>3</th>\n      <td>4</td>\n      <td>USC00517948</td>\n      <td>PEARL CITY, HI US</td>\n      <td>21.39340</td>\n      <td>-157.97510</td>\n      <td>11.9</td>\n    </tr>\n    <tr>\n      <th>4</th>\n      <td>5</td>\n      <td>USC00518838</td>\n      <td>UPPER WAHIAWA 874.3, HI US</td>\n      <td>21.49920</td>\n      <td>-158.01110</td>\n      <td>306.6</td>\n    </tr>\n    <tr>\n      <th>5</th>\n      <td>6</td>\n      <td>USC00519523</td>\n      <td>WAIMANALO EXPERIMENTAL FARM, HI US</td>\n      <td>21.33556</td>\n      <td>-157.71139</td>\n      <td>19.5</td>\n    </tr>\n    <tr>\n      <th>6</th>\n      <td>7</td>\n      <td>USC00519281</td>\n      <td>WAIHEE 837.5, HI US</td>\n      <td>21.45167</td>\n      <td>-157.84889</td>\n      <td>32.9</td>\n    </tr>\n    <tr>\n      <th>7</th>\n      <td>8</td>\n      <td>USC00511918</td>\n      <td>HONOLULU OBSERVATORY 702.2, HI US</td>\n      <td>21.31520</td>\n      <td>-157.99920</td>\n      <td>0.9</td>\n    </tr>\n    <tr>\n      <th>8</th>\n      <td>9</td>\n      <td>USC00516128</td>\n      <td>MANOA LYON ARBO 785.2, HI US</td>\n      <td>21.33310</td>\n      <td>-157.80250</td>\n      <td>152.4</td>\n    </tr>\n  </tbody>\n</table>\n</div>"
     },
     "metadata": {},
     "execution_count": 11
    }
   ],
   "source": [
    "station = pd.read_sql(\"SELECT * FROM Station\", conn)\n",
    "\n",
    "station_df = station.rename(columns={\"id\" : \"ID\", \"station\" : \"Station\", \"name\" : \"Name\", \"latitude\" : \"Latitude\", \"longitude\" : \"Longitude\", \"elevation\" : \"Elevation\"})\n",
    "\n",
    "station_df.head(10)"
   ]
  },
  {
   "cell_type": "code",
   "execution_count": 12,
   "metadata": {},
   "outputs": [
    {
     "output_type": "execute_result",
     "data": {
      "text/plain": "   ID_x      Station                  Name  Latitude  Longitude  Elevation  \\\n0     1  USC00519397  WAIKIKI 717.2, HI US   21.2716  -157.8168        3.0   \n1     1  USC00519397  WAIKIKI 717.2, HI US   21.2716  -157.8168        3.0   \n2     1  USC00519397  WAIKIKI 717.2, HI US   21.2716  -157.8168        3.0   \n3     1  USC00519397  WAIKIKI 717.2, HI US   21.2716  -157.8168        3.0   \n4     1  USC00519397  WAIKIKI 717.2, HI US   21.2716  -157.8168        3.0   \n5     1  USC00519397  WAIKIKI 717.2, HI US   21.2716  -157.8168        3.0   \n6     1  USC00519397  WAIKIKI 717.2, HI US   21.2716  -157.8168        3.0   \n7     1  USC00519397  WAIKIKI 717.2, HI US   21.2716  -157.8168        3.0   \n8     1  USC00519397  WAIKIKI 717.2, HI US   21.2716  -157.8168        3.0   \n9     1  USC00519397  WAIKIKI 717.2, HI US   21.2716  -157.8168        3.0   \n\n   ID_y        Date  Precipitation  Time of Observation Bias  \n0     1  2010-01-01           0.08                      65.0  \n1     2  2010-01-02           0.00                      63.0  \n2     3  2010-01-03           0.00                      74.0  \n3     4  2010-01-04           0.00                      76.0  \n4     5  2010-01-06            NaN                      73.0  \n5     6  2010-01-07           0.06                      70.0  \n6     7  2010-01-08           0.00                      64.0  \n7     8  2010-01-09           0.00                      68.0  \n8     9  2010-01-10           0.00                      73.0  \n9    10  2010-01-11           0.01                      64.0  ",
      "text/html": "<div>\n<style scoped>\n    .dataframe tbody tr th:only-of-type {\n        vertical-align: middle;\n    }\n\n    .dataframe tbody tr th {\n        vertical-align: top;\n    }\n\n    .dataframe thead th {\n        text-align: right;\n    }\n</style>\n<table border=\"1\" class=\"dataframe\">\n  <thead>\n    <tr style=\"text-align: right;\">\n      <th></th>\n      <th>ID_x</th>\n      <th>Station</th>\n      <th>Name</th>\n      <th>Latitude</th>\n      <th>Longitude</th>\n      <th>Elevation</th>\n      <th>ID_y</th>\n      <th>Date</th>\n      <th>Precipitation</th>\n      <th>Time of Observation Bias</th>\n    </tr>\n  </thead>\n  <tbody>\n    <tr>\n      <th>0</th>\n      <td>1</td>\n      <td>USC00519397</td>\n      <td>WAIKIKI 717.2, HI US</td>\n      <td>21.2716</td>\n      <td>-157.8168</td>\n      <td>3.0</td>\n      <td>1</td>\n      <td>2010-01-01</td>\n      <td>0.08</td>\n      <td>65.0</td>\n    </tr>\n    <tr>\n      <th>1</th>\n      <td>1</td>\n      <td>USC00519397</td>\n      <td>WAIKIKI 717.2, HI US</td>\n      <td>21.2716</td>\n      <td>-157.8168</td>\n      <td>3.0</td>\n      <td>2</td>\n      <td>2010-01-02</td>\n      <td>0.00</td>\n      <td>63.0</td>\n    </tr>\n    <tr>\n      <th>2</th>\n      <td>1</td>\n      <td>USC00519397</td>\n      <td>WAIKIKI 717.2, HI US</td>\n      <td>21.2716</td>\n      <td>-157.8168</td>\n      <td>3.0</td>\n      <td>3</td>\n      <td>2010-01-03</td>\n      <td>0.00</td>\n      <td>74.0</td>\n    </tr>\n    <tr>\n      <th>3</th>\n      <td>1</td>\n      <td>USC00519397</td>\n      <td>WAIKIKI 717.2, HI US</td>\n      <td>21.2716</td>\n      <td>-157.8168</td>\n      <td>3.0</td>\n      <td>4</td>\n      <td>2010-01-04</td>\n      <td>0.00</td>\n      <td>76.0</td>\n    </tr>\n    <tr>\n      <th>4</th>\n      <td>1</td>\n      <td>USC00519397</td>\n      <td>WAIKIKI 717.2, HI US</td>\n      <td>21.2716</td>\n      <td>-157.8168</td>\n      <td>3.0</td>\n      <td>5</td>\n      <td>2010-01-06</td>\n      <td>NaN</td>\n      <td>73.0</td>\n    </tr>\n    <tr>\n      <th>5</th>\n      <td>1</td>\n      <td>USC00519397</td>\n      <td>WAIKIKI 717.2, HI US</td>\n      <td>21.2716</td>\n      <td>-157.8168</td>\n      <td>3.0</td>\n      <td>6</td>\n      <td>2010-01-07</td>\n      <td>0.06</td>\n      <td>70.0</td>\n    </tr>\n    <tr>\n      <th>6</th>\n      <td>1</td>\n      <td>USC00519397</td>\n      <td>WAIKIKI 717.2, HI US</td>\n      <td>21.2716</td>\n      <td>-157.8168</td>\n      <td>3.0</td>\n      <td>7</td>\n      <td>2010-01-08</td>\n      <td>0.00</td>\n      <td>64.0</td>\n    </tr>\n    <tr>\n      <th>7</th>\n      <td>1</td>\n      <td>USC00519397</td>\n      <td>WAIKIKI 717.2, HI US</td>\n      <td>21.2716</td>\n      <td>-157.8168</td>\n      <td>3.0</td>\n      <td>8</td>\n      <td>2010-01-09</td>\n      <td>0.00</td>\n      <td>68.0</td>\n    </tr>\n    <tr>\n      <th>8</th>\n      <td>1</td>\n      <td>USC00519397</td>\n      <td>WAIKIKI 717.2, HI US</td>\n      <td>21.2716</td>\n      <td>-157.8168</td>\n      <td>3.0</td>\n      <td>9</td>\n      <td>2010-01-10</td>\n      <td>0.00</td>\n      <td>73.0</td>\n    </tr>\n    <tr>\n      <th>9</th>\n      <td>1</td>\n      <td>USC00519397</td>\n      <td>WAIKIKI 717.2, HI US</td>\n      <td>21.2716</td>\n      <td>-157.8168</td>\n      <td>3.0</td>\n      <td>10</td>\n      <td>2010-01-11</td>\n      <td>0.01</td>\n      <td>64.0</td>\n    </tr>\n  </tbody>\n</table>\n</div>"
     },
     "metadata": {},
     "execution_count": 12
    }
   ],
   "source": [
    "# Creating a merged DF from the two above if needed like the last SQL homework\n",
    "\n",
    "# Merged on Station\n",
    "\n",
    "measurement_station_df = pd.merge(station_df, measurement_df, on=\"Station\", how=\"inner\")\n",
    "\n",
    "measurement_station_df.head(10)"
   ]
  },
  {
   "cell_type": "code",
   "execution_count": 13,
   "metadata": {},
   "outputs": [
    {
     "output_type": "execute_result",
     "data": {
      "text/plain": "       Station                  Name  Latitude  Longitude  Elevation  \\\n0  USC00519397  WAIKIKI 717.2, HI US   21.2716  -157.8168        3.0   \n1  USC00519397  WAIKIKI 717.2, HI US   21.2716  -157.8168        3.0   \n2  USC00519397  WAIKIKI 717.2, HI US   21.2716  -157.8168        3.0   \n3  USC00519397  WAIKIKI 717.2, HI US   21.2716  -157.8168        3.0   \n4  USC00519397  WAIKIKI 717.2, HI US   21.2716  -157.8168        3.0   \n\n         Date  Precipitation  Time of Observation Bias  \n0  2010-01-01           0.08                      65.0  \n1  2010-01-02           0.00                      63.0  \n2  2010-01-03           0.00                      74.0  \n3  2010-01-04           0.00                      76.0  \n4  2010-01-06            NaN                      73.0  ",
      "text/html": "<div>\n<style scoped>\n    .dataframe tbody tr th:only-of-type {\n        vertical-align: middle;\n    }\n\n    .dataframe tbody tr th {\n        vertical-align: top;\n    }\n\n    .dataframe thead th {\n        text-align: right;\n    }\n</style>\n<table border=\"1\" class=\"dataframe\">\n  <thead>\n    <tr style=\"text-align: right;\">\n      <th></th>\n      <th>Station</th>\n      <th>Name</th>\n      <th>Latitude</th>\n      <th>Longitude</th>\n      <th>Elevation</th>\n      <th>Date</th>\n      <th>Precipitation</th>\n      <th>Time of Observation Bias</th>\n    </tr>\n  </thead>\n  <tbody>\n    <tr>\n      <th>0</th>\n      <td>USC00519397</td>\n      <td>WAIKIKI 717.2, HI US</td>\n      <td>21.2716</td>\n      <td>-157.8168</td>\n      <td>3.0</td>\n      <td>2010-01-01</td>\n      <td>0.08</td>\n      <td>65.0</td>\n    </tr>\n    <tr>\n      <th>1</th>\n      <td>USC00519397</td>\n      <td>WAIKIKI 717.2, HI US</td>\n      <td>21.2716</td>\n      <td>-157.8168</td>\n      <td>3.0</td>\n      <td>2010-01-02</td>\n      <td>0.00</td>\n      <td>63.0</td>\n    </tr>\n    <tr>\n      <th>2</th>\n      <td>USC00519397</td>\n      <td>WAIKIKI 717.2, HI US</td>\n      <td>21.2716</td>\n      <td>-157.8168</td>\n      <td>3.0</td>\n      <td>2010-01-03</td>\n      <td>0.00</td>\n      <td>74.0</td>\n    </tr>\n    <tr>\n      <th>3</th>\n      <td>USC00519397</td>\n      <td>WAIKIKI 717.2, HI US</td>\n      <td>21.2716</td>\n      <td>-157.8168</td>\n      <td>3.0</td>\n      <td>2010-01-04</td>\n      <td>0.00</td>\n      <td>76.0</td>\n    </tr>\n    <tr>\n      <th>4</th>\n      <td>USC00519397</td>\n      <td>WAIKIKI 717.2, HI US</td>\n      <td>21.2716</td>\n      <td>-157.8168</td>\n      <td>3.0</td>\n      <td>2010-01-06</td>\n      <td>NaN</td>\n      <td>73.0</td>\n    </tr>\n  </tbody>\n</table>\n</div>"
     },
     "metadata": {},
     "execution_count": 13
    }
   ],
   "source": [
    "# Merged Data and dropping column \"ID_x\" and \"ID_y\", if needed\n",
    "\n",
    "measurement_station_df_clean = measurement_station_df.drop(columns = [\"ID_x\", \"ID_y\"])\n",
    "\n",
    "measurement_station_df_clean.head()"
   ]
  },
  {
   "cell_type": "code",
   "execution_count": 14,
   "metadata": {},
   "outputs": [
    {
     "output_type": "execute_result",
     "data": {
      "text/plain": "           Station                                    Name  Latitude  \\\n19549  USC00516128            MANOA LYON ARBO 785.2, HI US  21.33310   \n12186  USC00519523      WAIMANALO EXPERIMENTAL FARM, HI US  21.33556   \n2723   USC00519397                    WAIKIKI 717.2, HI US  21.27160   \n7634   USC00514830  KUALOA RANCH HEADQUARTERS 886.9, HI US  21.52130   \n12185  USC00519523      WAIMANALO EXPERIMENTAL FARM, HI US  21.33556   \n\n       Longitude  Elevation        Date  Precipitation  \\\n19549 -157.80250      152.4  2017-08-23           0.45   \n12186 -157.71139       19.5  2017-08-23           0.08   \n2723  -157.81680        3.0  2017-08-23           0.00   \n7634  -157.83740        7.0  2017-08-23           0.00   \n12185 -157.71139       19.5  2017-08-22           0.00   \n\n       Time of Observation Bias  \n19549                      76.0  \n12186                      82.0  \n2723                       81.0  \n7634                       82.0  \n12185                      82.0  ",
      "text/html": "<div>\n<style scoped>\n    .dataframe tbody tr th:only-of-type {\n        vertical-align: middle;\n    }\n\n    .dataframe tbody tr th {\n        vertical-align: top;\n    }\n\n    .dataframe thead th {\n        text-align: right;\n    }\n</style>\n<table border=\"1\" class=\"dataframe\">\n  <thead>\n    <tr style=\"text-align: right;\">\n      <th></th>\n      <th>Station</th>\n      <th>Name</th>\n      <th>Latitude</th>\n      <th>Longitude</th>\n      <th>Elevation</th>\n      <th>Date</th>\n      <th>Precipitation</th>\n      <th>Time of Observation Bias</th>\n    </tr>\n  </thead>\n  <tbody>\n    <tr>\n      <th>19549</th>\n      <td>USC00516128</td>\n      <td>MANOA LYON ARBO 785.2, HI US</td>\n      <td>21.33310</td>\n      <td>-157.80250</td>\n      <td>152.4</td>\n      <td>2017-08-23</td>\n      <td>0.45</td>\n      <td>76.0</td>\n    </tr>\n    <tr>\n      <th>12186</th>\n      <td>USC00519523</td>\n      <td>WAIMANALO EXPERIMENTAL FARM, HI US</td>\n      <td>21.33556</td>\n      <td>-157.71139</td>\n      <td>19.5</td>\n      <td>2017-08-23</td>\n      <td>0.08</td>\n      <td>82.0</td>\n    </tr>\n    <tr>\n      <th>2723</th>\n      <td>USC00519397</td>\n      <td>WAIKIKI 717.2, HI US</td>\n      <td>21.27160</td>\n      <td>-157.81680</td>\n      <td>3.0</td>\n      <td>2017-08-23</td>\n      <td>0.00</td>\n      <td>81.0</td>\n    </tr>\n    <tr>\n      <th>7634</th>\n      <td>USC00514830</td>\n      <td>KUALOA RANCH HEADQUARTERS 886.9, HI US</td>\n      <td>21.52130</td>\n      <td>-157.83740</td>\n      <td>7.0</td>\n      <td>2017-08-23</td>\n      <td>0.00</td>\n      <td>82.0</td>\n    </tr>\n    <tr>\n      <th>12185</th>\n      <td>USC00519523</td>\n      <td>WAIMANALO EXPERIMENTAL FARM, HI US</td>\n      <td>21.33556</td>\n      <td>-157.71139</td>\n      <td>19.5</td>\n      <td>2017-08-22</td>\n      <td>0.00</td>\n      <td>82.0</td>\n    </tr>\n  </tbody>\n</table>\n</div>"
     },
     "metadata": {},
     "execution_count": 14
    }
   ],
   "source": [
    "# Design a query to retrieve the last 12 months of precipitation data and plot the results\n",
    "\n",
    "# Calculate the date 1 year ago from the last data point in the database\n",
    "\n",
    "measurement_station_df_clean.sort_values(by=\"Date\", ascending=False).head()\n"
   ]
  },
  {
   "cell_type": "code",
   "execution_count": 15,
   "metadata": {},
   "outputs": [
    {
     "output_type": "execute_result",
     "data": {
      "text/plain": "Empty DataFrame\nColumns: []\nIndex: []",
      "text/html": "<div>\n<style scoped>\n    .dataframe tbody tr th:only-of-type {\n        vertical-align: middle;\n    }\n\n    .dataframe tbody tr th {\n        vertical-align: top;\n    }\n\n    .dataframe thead th {\n        text-align: right;\n    }\n</style>\n<table border=\"1\" class=\"dataframe\">\n  <thead>\n    <tr style=\"text-align: right;\">\n      <th></th>\n    </tr>\n  </thead>\n  <tbody>\n  </tbody>\n</table>\n</div>"
     },
     "metadata": {},
     "execution_count": 15
    }
   ],
   "source": [
    "# Perform a query to retrieve the data and precipitation scores\n",
    "last_12_months = session.query(Measurement.date, Measurement.prcp).\\\n",
    "filter(Measurement.date >= '2019-09-23').\\\n",
    "filter(Measurement.date <= '2020-09-23').\\\n",
    "order_by(Measurement.date).all()\n",
    "\n",
    "last_12_months_df = pd.DataFrame(last_12_months)\n",
    "\n",
    "# Renaming\n",
    "prcp_12_data = last_12_months_df.rename(columns={\"date\" : \"Date\", \"prcp\" : \"Precipitation\"})\n",
    "\n",
    "prcp_12_data.head(10)"
   ]
  },
  {
   "cell_type": "code",
   "execution_count": 16,
   "metadata": {},
   "outputs": [
    {
     "output_type": "error",
     "ename": "KeyError",
     "evalue": "&quot;None of [&#39;Date&#39;] are in the columns&quot;",
     "traceback": [
      "\u001b[1;31m---------------------------------------------------------------------------\u001b[0m",
      "\u001b[1;31mKeyError\u001b[0m                                  Traceback (most recent call last)",
      "\u001b[1;32m&lt;ipython-input-16-3b42fe04a438&gt;\u001b[0m in \u001b[0;36m&lt;module&gt;\u001b[1;34m\u001b[0m\n\u001b[0;32m      1\u001b[0m \u001b[1;31m# Save the query results as a Pandas DataFrame and set the index to the date column\u001b[0m\u001b[1;33m\u001b[0m\u001b[1;33m\u001b[0m\u001b[1;33m\u001b[0m\u001b[0m\n\u001b[0;32m      2\u001b[0m \u001b[1;33m\u001b[0m\u001b[0m\n\u001b[1;32m----&gt; 3\u001b[1;33m \u001b[0mprecipitation_data\u001b[0m \u001b[1;33m=\u001b[0m \u001b[0mpd\u001b[0m\u001b[1;33m.\u001b[0m\u001b[0mDataFrame\u001b[0m\u001b[1;33m(\u001b[0m\u001b[0mdata\u001b[0m\u001b[1;33m=\u001b[0m\u001b[0mprcp_12_data\u001b[0m\u001b[1;33m)\u001b[0m\u001b[1;33m.\u001b[0m\u001b[0mset_index\u001b[0m\u001b[1;33m(\u001b[0m\u001b[1;34m&quot;Date&quot;\u001b[0m\u001b[1;33m)\u001b[0m\u001b[1;33m\u001b[0m\u001b[1;33m\u001b[0m\u001b[0m\n\u001b[0m\u001b[0;32m      4\u001b[0m \u001b[1;33m\u001b[0m\u001b[0m\n\u001b[0;32m      5\u001b[0m \u001b[1;31m# precipitation_data\u001b[0m\u001b[1;33m\u001b[0m\u001b[1;33m\u001b[0m\u001b[1;33m\u001b[0m\u001b[0m\n",
      "\u001b[1;32m~\\anaconda3\\envs\\PythonData\\lib\\site-packages\\pandas\\core\\frame.py\u001b[0m in \u001b[0;36mset_index\u001b[1;34m(self, keys, drop, append, inplace, verify_integrity)\u001b[0m\n\u001b[0;32m   4301\u001b[0m \u001b[1;33m\u001b[0m\u001b[0m\n\u001b[0;32m   4302\u001b[0m         \u001b[1;32mif\u001b[0m \u001b[0mmissing\u001b[0m\u001b[1;33m:\u001b[0m\u001b[1;33m\u001b[0m\u001b[1;33m\u001b[0m\u001b[0m\n\u001b[1;32m-&gt; 4303\u001b[1;33m             \u001b[1;32mraise\u001b[0m \u001b[0mKeyError\u001b[0m\u001b[1;33m(\u001b[0m\u001b[1;34mf&quot;None of {missing} are in the columns&quot;\u001b[0m\u001b[1;33m)\u001b[0m\u001b[1;33m\u001b[0m\u001b[1;33m\u001b[0m\u001b[0m\n\u001b[0m\u001b[0;32m   4304\u001b[0m \u001b[1;33m\u001b[0m\u001b[0m\n\u001b[0;32m   4305\u001b[0m         \u001b[1;32mif\u001b[0m \u001b[0minplace\u001b[0m\u001b[1;33m:\u001b[0m\u001b[1;33m\u001b[0m\u001b[1;33m\u001b[0m\u001b[0m\n",
      "\u001b[1;31mKeyError\u001b[0m: &quot;None of [&#39;Date&#39;] are in the columns&quot;"
     ]
    }
   ],
   "source": [
    "# Save the query results as a Pandas DataFrame and set the index to the date column\n",
    "\n",
    "precipitation_data = pd.DataFrame(data=prcp_12_data).set_index(\"Date\")\n",
    "\n",
    "# precipitation_data"
   ]
  },
  {
   "cell_type": "code",
   "execution_count": null,
   "metadata": {},
   "outputs": [],
   "source": [
    "# Sort the dataframe by date\n",
    "precipitation_data.head(10)"
   ]
  },
  {
   "cell_type": "code",
   "execution_count": null,
   "metadata": {},
   "outputs": [],
   "source": [
    "# Use Pandas Plotting with Matplotlib to plot the data\n",
    "\n",
    "plot_prcp_12 = precipitation_data.plot(figsize = (15, 8), color = 'deepskyblue', alpha = 1.0);\n",
    "\n",
    "plot_prcp_12.set_xlabel(\"\\nDate\", weight=\"bold\", size=25);\n",
    "plot_prcp_12.set_ylabel(\"Precipitation\\n\", weight=\"bold\", size=25);\n",
    "plot_prcp_12.set_title(\"Precipitation Over A 12 Month Period\\n\", weight=\"bold\", size=25);\n",
    "\n",
    "# x_axis = prcp_12_data[\"Date\"];\n",
    "# tick_locations = [value for value in x_axis];\n",
    "# plt.xticks(tick_locations, x_axis, rotation=90);\n",
    "\n",
    "# Added after plot.legend()\n",
    "plt.xticks(rotation=90, fontsize=10, weight=\"bold\")\n",
    "plt.yticks(fontsize=20)\n",
    "\n",
    "# size doesn't work for .legend() change to fontsize\n",
    "plt.legend(loc=\"upper center\", fontsize=25)\n",
    "\n",
    "# plot.grid()\n",
    "plt.tight_layout()\n",
    "\n",
    "plt.savefig(\"GRAPH_1_PRCP_OVER_LAST_12_MONTHS_.png\")"
   ]
  },
  {
   "cell_type": "code",
   "execution_count": null,
   "metadata": {},
   "outputs": [],
   "source": [
    "# Use Pandas to calcualte the summary statistics for the precipitation data\n",
    "\n",
    "prcp_data_stats = precipitation_data.describe()\n",
    "\n",
    "prcp_data_stats"
   ]
  },
  {
   "cell_type": "code",
   "execution_count": null,
   "metadata": {
    "tags": []
   },
   "outputs": [],
   "source": [
    "# Design a query to show how many stations are available in this dataset?\n",
    "# QUERY SOLUTUION\n",
    "\n",
    "avaiable_stations = session.query(Station.name).count()\n",
    "\n",
    "# avaiable_stations\n",
    "\n",
    "print(f\"---- THERE ARE [{avaiable_stations}] AVAILABLE STATIONS IN HAWAII ----\")\n"
   ]
  },
  {
   "cell_type": "code",
   "execution_count": null,
   "metadata": {},
   "outputs": [],
   "source": [
    "# What are the most active stations? (i.e. what stations have the most rows)?\n",
    "# List the stations and the counts in descending order.\n",
    "count_of_stations = session.query(Measurement.station, Station.name,\n",
    "                                  func.count(Measurement.station)).\\\n",
    "filter(Measurement.station == Station.station).\\\n",
    "group_by(Measurement.station)\n",
    "\n",
    "active_stations = pd.DataFrame(data= count_of_stations, columns =[\"Station ID\", \"Station Name/Location\", \"Count of Active Stations\"])\n",
    "\n",
    "active_stations_data = active_stations.sort_values(by= \"Count of Active Stations\", ascending=False)\n",
    "\n",
    "active_stations_data"
   ]
  },
  {
   "cell_type": "code",
   "execution_count": null,
   "metadata": {},
   "outputs": [],
   "source": [
    "# Using the station id from the previous query, calculate the lowest temperature recorded, \n",
    "\n",
    "# Lowest Temperature Recorded\n",
    "\n",
    "lowest_temp = session.query(Measurement.station, Station.name, func.min(Measurement.tobs)).\\\n",
    "filter(Measurement.station==Station.station)\n",
    "\n",
    "# lowest_temp[0]\n",
    "\n",
    "\n",
    "# Highest Temperature Recorded\n",
    "\n",
    "highest_temp = session.query(Measurement.station, Station.name, func.max(Measurement.tobs)).\\\n",
    "filter(Measurement.station==Station.station)\n",
    "\n",
    "# highest_temp[0]\n",
    "\n",
    "print(f\"Lowest Temperature Recorded From Most Active Station: \\nLocation of Station - {lowest_temp[0][1]}\")\n",
    "print(f\"Station ID - {lowest_temp[0][0]}\")\n",
    "print(f\"\\nHighest Temperature Recorded From Most Active Station: \\nLocation of Station - {highest_temp[0][1]}\") \n",
    "print(f\"Station ID - {highest_temp[0][0]}\")\n",
    "\n",
    "\n",
    "# Average Temperature\n",
    "\n",
    "temp_max_active_station = session.query(Measurement.station, Station.name, func.avg(Measurement.tobs)).\\\n",
    "filter(Measurement.station==Station.station).\\\n",
    "group_by(Measurement.station).\\\n",
    "filter(Measurement.station == 'USC00519281')\n",
    "\n",
    "# temp_max_active_station[0][1]\n",
    "# temp_max_active_station[0][2]\n",
    "\n",
    "avg_temp_highest_station = round(temp_max_active_station[0][2])\n",
    "\n",
    "# avg_temp_highest_station\n",
    "\n",
    "print(f\"\\nAverage Temperature Recorded From The Most Active Station: \\n{avg_temp_highest_station} Degrees in Farenheit\")"
   ]
  },
  {
   "cell_type": "code",
   "execution_count": null,
   "metadata": {},
   "outputs": [],
   "source": [
    "# Choose the station with the highest number of temperature observations.\n",
    "\n",
    "tobs_over_12_months = session.query(Measurement.station, Station.name, Measurement.date, Measurement.tobs).\\\n",
    "filter(Measurement.station == Station.station).\\\n",
    "filter(Measurement.station == \"USC00519281\").\\\n",
    "filter(Measurement.date >= \"2018-09-23\").\\\n",
    "filter(Measurement.date <= \"2019-09-23\").\\\n",
    "order_by(Measurement.date).all()"
   ]
  },
  {
   "cell_type": "code",
   "execution_count": null,
   "metadata": {},
   "outputs": [],
   "source": [
    "# highest temperature recorded, and average temperature of the most active station?\n",
    "highest_tobs_over_12_months = pd.DataFrame(tobs_over_12_months)\n",
    "\n",
    "highest_tobs_over_12_months_df = highest_tobs_over_12_months.rename(columns={\"station\" : \"Station\", \"name\" : \"Name\", \"date\" : \"Date\", \"tobs\" : \"Time of Observation Bias\"})\n",
    "\n",
    "highest_tobs_over_12_months_df.head(10)"
   ]
  },
  {
   "cell_type": "code",
   "execution_count": null,
   "metadata": {},
   "outputs": [],
   "source": [
    "\n",
    "# Query the last 12 months of temperature observation data for this station and plot the results as a histogram\n",
    "# HIST Example\n",
    "\n",
    "# plt.hist(clean_second_merge[\"Salary\"], color='purple', alpha=1);\n",
    "\n",
    "# plt.xlabel(\"\\nSALARY RANGE ($)\", weight=\"bold\");\n",
    "# plt.ylabel(\"NUMBER OF EMPLOYEES\\n\", weight=\"bold\");\n",
    "# plt.title(\"SALARY RANGE PER EMPLOYEES\\n\", weight=\"bold\", size=15)\n",
    "\n",
    "# plt.grid()\n",
    "# plt.tight_layout()\n",
    "\n",
    "# plt.savefig(\"Hist_By_Dept_Salaries_Range.png\")\n",
    "\n",
    "plt.hist(highest_tobs_over_12_months_df[\"Time of Observation Bias\"],bins=12, color=\"deepskyblue\", alpha=1.0);\n",
    "\n",
    "plt.title(\"Temperature Observation Over A 12 Month Period\\n\", weight=\"bold\", size=15);\n",
    "plt.xlabel(\"\\nTime of Observation Bias\", weight=\"bold\", size=10);\n",
    "plt.ylabel(\"Frequency\\n\", weight=\"bold\", size=10)\n",
    "\n",
    "plt.tight_layout()\n",
    "\n",
    "plt.savefig(\"GRAPH_2_TOBS_OVER_12_MONTHS_.png\")\n"
   ]
  },
  {
   "cell_type": "markdown",
   "metadata": {},
   "source": [
    "## Bonus Challenge Assignment"
   ]
  },
  {
   "cell_type": "code",
   "execution_count": null,
   "metadata": {
    "tags": []
   },
   "outputs": [],
   "source": [
    "# This function called `calc_temps` will accept start date and end date in the format '%Y-%m-%d' \n",
    "# and return the minimum, average, and maximum temperatures for that range of dates\n",
    "def calc_temps(start_date, end_date):\n",
    "    \"\"\"TMIN, TAVG, and TMAX for a list of dates.\n",
    "    \n",
    "    Args:\n",
    "        start_date (string): A date string in the format %Y-%m-%d\n",
    "        end_date (string): A date string in the format %Y-%m-%d\n",
    "        \n",
    "    Returns:\n",
    "        TMIN, TAVE, and TMAX\n",
    "    \"\"\"\n",
    "    \n",
    "    return session.query(func.min(Measurement.tobs), func.avg(Measurement.tobs), func.max(Measurement.tobs)).\\\n",
    "        filter(Measurement.date >= start_date).filter(Measurement.date <= end_date).all()\n",
    "\n",
    "# function usage example\n",
    "print(calc_temps('2012-02-28', '2012-03-05'))\n",
    "\n",
    "clean_rainfall_df = rainfall_df.rename(columns={\"station\" : \"Station\", \"name\" : \"Name\", \"latitude\" : \"Latitude\", \"longitude\" : \"Longitude\", \"elevation\" : \"Elevation\", \"prcp\" : \"Precipitation\"})\n",
    "\n",
    "clean_rainfall_df"
   ]
  },
  {
   "source": [
    "## Use your previous function `calc_temps` to calculate the tmin, tavg, and tmax \n",
    "## for your trip using the previous year's data for those same dates.\n"
   ],
   "cell_type": "markdown",
   "metadata": {}
  },
  {
   "cell_type": "code",
   "execution_count": null,
   "metadata": {},
   "outputs": [],
   "source": [
    "# Plot the results from your previous query as a bar chart. \n",
    "# Use \"Trip Avg Temp\" as your Title\n",
    "# Use the average temperature for the y value\n",
    "# Use the peak-to-peak (tmax-tmin) value as the y error bar (yerr)\n"
   ]
  },
  {
   "cell_type": "code",
   "execution_count": null,
   "metadata": {},
   "outputs": [],
   "source": [
    "# Calculate the total amount of rainfall per weather station for your trip dates using the previous year's matching dates.\n",
    "# Sort this in descending order by precipitation amount and list the station, name, latitude, longitude, and elevation\n",
    "\n"
   ]
  },
  {
   "cell_type": "code",
   "execution_count": null,
   "metadata": {},
   "outputs": [],
   "source": [
    "# Create a query that will calculate the daily normals \n",
    "# (i.e. the averages for tmin, tmax, and tavg for all historic data matching a specific month and day)\n",
    "\n",
    "def daily_normals(date):\n",
    "    \"\"\"Daily Normals.\n",
    "    \n",
    "    Args:\n",
    "        date (str): A date string in the format '%m-%d'\n",
    "        \n",
    "    Returns:\n",
    "        A list of tuples containing the daily normals, tmin, tavg, and tmax\n",
    "    \n",
    "    \"\"\"\n",
    "    \n",
    "    sel = [func.min(Measurement.tobs), func.avg(Measurement.tobs), func.max(Measurement.tobs)]\n",
    "    return session.query(*sel).filter(func.strftime(\"%m-%d\", Measurement.date) == date).all()\n",
    "    \n",
    "daily_normals(\"01-01\")"
   ]
  },
  {
   "cell_type": "code",
   "execution_count": null,
   "metadata": {},
   "outputs": [],
   "source": [
    "# calculate the daily normals for your trip\n",
    "# push each tuple of calculations into a list called `normals`\n",
    "\n",
    "# Set the start and end date of the trip\n",
    "\n",
    "# Use the start and end date to create a range of dates\n",
    "\n",
    "# Stip off the year and save a list of %m-%d strings\n",
    "\n",
    "# Loop through the list of %m-%d strings and calculate the normals for each date\n"
   ]
  },
  {
   "cell_type": "code",
   "execution_count": null,
   "metadata": {},
   "outputs": [],
   "source": [
    "# Load the previous query results into a Pandas DataFrame and add the `trip_dates` range as the `date` index\n"
   ]
  },
  {
   "cell_type": "code",
   "execution_count": null,
   "metadata": {},
   "outputs": [],
   "source": [
    "# Plot the daily normals as an area plot with `stacked=False`\n"
   ]
  }
 ],
 "metadata": {
  "kernel_info": {
   "name": "python3"
  },
  "kernelspec": {
   "display_name": "Python 3",
   "language": "python",
   "name": "python3"
  },
  "language_info": {
   "codemirror_mode": {
    "name": "ipython",
    "version": 3
   },
   "file_extension": ".py",
   "mimetype": "text/x-python",
   "name": "python",
   "nbconvert_exporter": "python",
   "pygments_lexer": "ipython3",
   "version": "3.6.10-final"
  },
  "nteract": {
   "version": "0.12.3"
  },
  "varInspector": {
   "cols": {
    "lenName": 16,
    "lenType": 16,
    "lenVar": 40
   },
   "kernels_config": {
    "python": {
     "delete_cmd_postfix": "",
     "delete_cmd_prefix": "del ",
     "library": "var_list.py",
     "varRefreshCmd": "print(var_dic_list())"
    },
    "r": {
     "delete_cmd_postfix": ") ",
     "delete_cmd_prefix": "rm(",
     "library": "var_list.r",
     "varRefreshCmd": "cat(var_dic_list()) "
    }
   },
   "types_to_exclude": [
    "module",
    "function",
    "builtin_function_or_method",
    "instance",
    "_Feature"
   ],
   "window_display": false
  }
 },
 "nbformat": 4,
 "nbformat_minor": 2
}